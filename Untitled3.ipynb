{
 "cells": [
  {
   "cell_type": "code",
   "execution_count": 38,
   "id": "59ef4253",
   "metadata": {},
   "outputs": [],
   "source": [
    "import random\n",
    "from collections import Counter\n",
    "import numpy as np\n",
    "import matplotlib.pyplot as plt\n",
    "import scipy.stats as stats\n",
    "import pandas as pd\n",
    "from scipy.stats import t\n",
    "from scipy.stats import norm"
   ]
  },
  {
   "cell_type": "markdown",
   "id": "827bf787",
   "metadata": {},
   "source": [
    "### Bài tập 3\n",
    "### Dương Minh Khôi\n",
    "### 19127183"
   ]
  },
  {
   "cell_type": "markdown",
   "id": "3a98cff5",
   "metadata": {},
   "source": [
    "#### Bài 1: "
   ]
  },
  {
   "cell_type": "code",
   "execution_count": 39,
   "id": "7736ee82",
   "metadata": {},
   "outputs": [
    {
     "data": {
      "text/plain": [
       "1.4706514544307454"
      ]
     },
     "execution_count": 39,
     "metadata": {},
     "output_type": "execute_result"
    }
   ],
   "source": [
    "def estimate(N):\n",
    "    X = np.random.uniform(size=N)\n",
    "    Y = np.exp(X**2)\n",
    "    return np.mean(Y)\n",
    "estimate(10000)"
   ]
  },
  {
   "cell_type": "code",
   "execution_count": 40,
   "id": "f1d250c8",
   "metadata": {},
   "outputs": [],
   "source": [
    "est = np.fromiter((estimate(2500) for i in range(5000)),dtype = float)"
   ]
  },
  {
   "cell_type": "code",
   "execution_count": 41,
   "id": "b5d2a969",
   "metadata": {},
   "outputs": [
    {
     "data": {
      "text/plain": [
       "0.009465218731967172"
      ]
     },
     "execution_count": 41,
     "metadata": {},
     "output_type": "execute_result"
    }
   ],
   "source": [
    "se = np.sqrt(np.var(est,ddof = 1))\n",
    "se"
   ]
  },
  {
   "cell_type": "markdown",
   "id": "fb787d45",
   "metadata": {},
   "source": [
    "#### Bài 2:"
   ]
  },
  {
   "cell_type": "code",
   "execution_count": 42,
   "id": "20784df3",
   "metadata": {},
   "outputs": [],
   "source": [
    "def T():\n",
    "    s = 0\n",
    "    i = 0\n",
    "    while s <= 1:\n",
    "        s += np.random.uniform()\n",
    "        i += 1\n",
    "    return i\n",
    "def MC_estimate_e(N):\n",
    "    s = np.fromiter((T() for i in range(N)),dtype = float)\n",
    "    return np.mean(s)"
   ]
  },
  {
   "cell_type": "markdown",
   "id": "44fa1c7d",
   "metadata": {},
   "source": [
    "#### b)"
   ]
  },
  {
   "cell_type": "code",
   "execution_count": 43,
   "id": "e893c642",
   "metadata": {},
   "outputs": [
    {
     "data": {
      "text/plain": [
       "2.7217"
      ]
     },
     "execution_count": 43,
     "metadata": {},
     "output_type": "execute_result"
    }
   ],
   "source": [
    "MC_estimate_e(10000)"
   ]
  },
  {
   "cell_type": "markdown",
   "id": "9327930e",
   "metadata": {},
   "source": [
    "#### c)"
   ]
  },
  {
   "cell_type": "code",
   "execution_count": 44,
   "id": "2d226cd3",
   "metadata": {},
   "outputs": [],
   "source": [
    "N = 10000\n",
    "MC_est1 = np.fromiter((MC_estimate_e(10000) for _ in range(N)), dtype=float)"
   ]
  },
  {
   "cell_type": "code",
   "execution_count": null,
   "id": "f229383b",
   "metadata": {},
   "outputs": [],
   "source": [
    "mean_est1 = np.mean(MC_est1)\n",
    "mean_est1"
   ]
  },
  {
   "cell_type": "code",
   "execution_count": null,
   "id": "5063f4f0",
   "metadata": {},
   "outputs": [],
   "source": [
    "q = t.ppf(1-0.05/2,N-1)\n",
    "q"
   ]
  },
  {
   "cell_type": "code",
   "execution_count": null,
   "id": "c207fc71",
   "metadata": {},
   "outputs": [],
   "source": [
    "RMSE = np.std(MC_est1,ddof=1)\n",
    "RMSE"
   ]
  },
  {
   "cell_type": "code",
   "execution_count": null,
   "id": "c3101fad",
   "metadata": {},
   "outputs": [],
   "source": [
    "lower = np.mean(MC_est1) - (RMSE*q/np.sqrt(10000))\n",
    "upper = np.mean(MC_est1) + (RMSE*q/np.sqrt(10000))\n",
    "print(\"Khoang tinh cay: [%0.8f,%0.8f]\"%(lower,upper))"
   ]
  },
  {
   "cell_type": "markdown",
   "id": "c620a62e",
   "metadata": {},
   "source": [
    "#### Bài 3"
   ]
  },
  {
   "cell_type": "code",
   "execution_count": 49,
   "id": "4edd2b8d",
   "metadata": {},
   "outputs": [
    {
     "data": {
      "text/plain": [
       "0.6767794007936645"
      ]
     },
     "execution_count": 49,
     "metadata": {},
     "output_type": "execute_result"
    }
   ],
   "source": [
    "def e_estimate(N):\n",
    "    U = np.random.uniform(size=N)\n",
    "    X = -np.log(U)\n",
    "    return np.var(X)\n",
    "e_estimate(5)"
   ]
  },
  {
   "cell_type": "code",
   "execution_count": 54,
   "id": "26b6648c",
   "metadata": {},
   "outputs": [
    {
     "data": {
      "text/plain": [
       "1.0612830434148741"
      ]
     },
     "execution_count": 54,
     "metadata": {},
     "output_type": "execute_result"
    }
   ],
   "source": [
    "est_e = np.fromiter((e_estimate(5) for i in range(100000)),dtype=float)\n",
    "np.var(est_e)"
   ]
  },
  {
   "cell_type": "code",
   "execution_count": 55,
   "id": "561cdfcb",
   "metadata": {},
   "outputs": [
    {
     "data": {
      "text/plain": [
       "0.7941965431884267"
      ]
     },
     "execution_count": 55,
     "metadata": {},
     "output_type": "execute_result"
    }
   ],
   "source": [
    "np.mean(est_e)"
   ]
  },
  {
   "cell_type": "markdown",
   "id": "791dc619",
   "metadata": {},
   "source": [
    "#### Bài 4"
   ]
  },
  {
   "cell_type": "code",
   "execution_count": null,
   "id": "4b8fb479",
   "metadata": {},
   "outputs": [],
   "source": []
  }
 ],
 "metadata": {
  "kernelspec": {
   "display_name": "Python 3 (ipykernel)",
   "language": "python",
   "name": "python3"
  },
  "language_info": {
   "codemirror_mode": {
    "name": "ipython",
    "version": 3
   },
   "file_extension": ".py",
   "mimetype": "text/x-python",
   "name": "python",
   "nbconvert_exporter": "python",
   "pygments_lexer": "ipython3",
   "version": "3.8.8"
  }
 },
 "nbformat": 4,
 "nbformat_minor": 5
}
